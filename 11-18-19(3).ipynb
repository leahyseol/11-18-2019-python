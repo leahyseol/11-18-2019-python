{
 "cells": [
  {
   "cell_type": "code",
   "execution_count": 1,
   "metadata": {},
   "outputs": [],
   "source": [
    "import numpy as np\n",
    "import pandas as pd"
   ]
  },
  {
   "cell_type": "code",
   "execution_count": 2,
   "metadata": {},
   "outputs": [
    {
     "name": "stdout",
     "output_type": "stream",
     "text": [
      "{'names': ['Kim', 'Lee', 'Choi', 'Park'], 'points': [50, 60, 75, 70], 'years': [2017, 2016, 2017, 2018]}\n",
      "\n",
      "  names  points  years\n",
      "0   Kim      50   2017\n",
      "1   Lee      60   2016\n",
      "2  Choi      75   2017\n",
      "3  Park      70   2018\n"
     ]
    },
    {
     "ename": "AttributeError",
     "evalue": "'DataFrame' object has no attribute 'name'",
     "output_type": "error",
     "traceback": [
      "\u001b[1;31m---------------------------------------------------------------------------\u001b[0m",
      "\u001b[1;31mAttributeError\u001b[0m                            Traceback (most recent call last)",
      "\u001b[1;32m<ipython-input-2-4fbb9b0096a5>\u001b[0m in \u001b[0;36m<module>\u001b[1;34m\u001b[0m\n\u001b[0;32m      6\u001b[0m \u001b[0mprint\u001b[0m\u001b[1;33m(\u001b[0m\u001b[1;33m)\u001b[0m\u001b[1;33m\u001b[0m\u001b[1;33m\u001b[0m\u001b[0m\n\u001b[0;32m      7\u001b[0m \u001b[0mprint\u001b[0m\u001b[1;33m(\u001b[0m\u001b[0mdf\u001b[0m\u001b[1;33m)\u001b[0m\u001b[1;33m\u001b[0m\u001b[1;33m\u001b[0m\u001b[0m\n\u001b[1;32m----> 8\u001b[1;33m \u001b[0mprint\u001b[0m\u001b[1;33m(\u001b[0m\u001b[0mdf\u001b[0m\u001b[1;33m.\u001b[0m\u001b[0mname\u001b[0m\u001b[1;33m)\u001b[0m\u001b[1;33m\u001b[0m\u001b[1;33m\u001b[0m\u001b[0m\n\u001b[0m\u001b[0;32m      9\u001b[0m \u001b[0mprint\u001b[0m\u001b[1;33m(\u001b[0m\u001b[0mdf\u001b[0m\u001b[1;33m.\u001b[0m\u001b[0mindex\u001b[0m\u001b[1;33m.\u001b[0m\u001b[0mname\u001b[0m\u001b[1;33m)\u001b[0m\u001b[1;33m\u001b[0m\u001b[1;33m\u001b[0m\u001b[0m\n\u001b[0;32m     10\u001b[0m \u001b[0mprint\u001b[0m\u001b[1;33m(\u001b[0m\u001b[0mdf\u001b[0m\u001b[1;33m.\u001b[0m\u001b[0mcolumns\u001b[0m\u001b[1;33m)\u001b[0m\u001b[1;33m\u001b[0m\u001b[1;33m\u001b[0m\u001b[0m\n",
      "\u001b[1;32m~\\Anaconda3\\lib\\site-packages\\pandas\\core\\generic.py\u001b[0m in \u001b[0;36m__getattr__\u001b[1;34m(self, name)\u001b[0m\n\u001b[0;32m   5177\u001b[0m             \u001b[1;32mif\u001b[0m \u001b[0mself\u001b[0m\u001b[1;33m.\u001b[0m\u001b[0m_info_axis\u001b[0m\u001b[1;33m.\u001b[0m\u001b[0m_can_hold_identifiers_and_holds_name\u001b[0m\u001b[1;33m(\u001b[0m\u001b[0mname\u001b[0m\u001b[1;33m)\u001b[0m\u001b[1;33m:\u001b[0m\u001b[1;33m\u001b[0m\u001b[1;33m\u001b[0m\u001b[0m\n\u001b[0;32m   5178\u001b[0m                 \u001b[1;32mreturn\u001b[0m \u001b[0mself\u001b[0m\u001b[1;33m[\u001b[0m\u001b[0mname\u001b[0m\u001b[1;33m]\u001b[0m\u001b[1;33m\u001b[0m\u001b[1;33m\u001b[0m\u001b[0m\n\u001b[1;32m-> 5179\u001b[1;33m             \u001b[1;32mreturn\u001b[0m \u001b[0mobject\u001b[0m\u001b[1;33m.\u001b[0m\u001b[0m__getattribute__\u001b[0m\u001b[1;33m(\u001b[0m\u001b[0mself\u001b[0m\u001b[1;33m,\u001b[0m \u001b[0mname\u001b[0m\u001b[1;33m)\u001b[0m\u001b[1;33m\u001b[0m\u001b[1;33m\u001b[0m\u001b[0m\n\u001b[0m\u001b[0;32m   5180\u001b[0m \u001b[1;33m\u001b[0m\u001b[0m\n\u001b[0;32m   5181\u001b[0m     \u001b[1;32mdef\u001b[0m \u001b[0m__setattr__\u001b[0m\u001b[1;33m(\u001b[0m\u001b[0mself\u001b[0m\u001b[1;33m,\u001b[0m \u001b[0mname\u001b[0m\u001b[1;33m,\u001b[0m \u001b[0mvalue\u001b[0m\u001b[1;33m)\u001b[0m\u001b[1;33m:\u001b[0m\u001b[1;33m\u001b[0m\u001b[1;33m\u001b[0m\u001b[0m\n",
      "\u001b[1;31mAttributeError\u001b[0m: 'DataFrame' object has no attribute 'name'"
     ]
    }
   ],
   "source": [
    "data={'names':['Kim','Lee','Choi','Park'],\n",
    "     'points':[50,60,75,70],\n",
    "     'years':[2017,2016,2017,2018]}\n",
    "print(data)\n",
    "df=pd.DataFrame(data)\n",
    "print()\n",
    "print(df)\n",
    "print(df.name)\n",
    "print(df.index.name)\n",
    "print(df.columns)\n",
    "df.columns.name='Info'\n",
    "df.index.name='Num'\n",
    "print(df)"
   ]
  },
  {
   "cell_type": "code",
   "execution_count": null,
   "metadata": {},
   "outputs": [],
   "source": [
    "df"
   ]
  },
  {
   "cell_type": "code",
   "execution_count": null,
   "metadata": {},
   "outputs": [],
   "source": [
    "data={'name':['Kim','Lee','Park','Hong','Park'],\n",
    "     'year':[2014,2015,2016,2015,2016],\n",
    "     'points':[1.5,1.7,3.6,2.4,2.9]}\n",
    "df=pd.DataFrame(data)\n",
    "df\n",
    "df2=pd.DataFrame(data, columns=['year','name','points','penalty'],\\\n",
    "                index=['one','two','three','four','five'])\n",
    "df2.penalty=[0.1,1.2,0.3,0.4,0.5]\n",
    "df2['penalty']=1.0\n",
    "df2['zero']=0\n",
    "df2"
   ]
  },
  {
   "cell_type": "code",
   "execution_count": null,
   "metadata": {},
   "outputs": [],
   "source": [
    "print(df2.loc['two':,'year':'points'])"
   ]
  },
  {
   "cell_type": "code",
   "execution_count": null,
   "metadata": {},
   "outputs": [],
   "source": [
    "#df.penalty=[0.1,0.2,0.3,0.4,0.5]\n",
    "#df2['height_point']=df2.points>2.0\n",
    "#df2\n",
    "#val=pd.Series([-1.2,-1.5,-1.7],index=['two','four','five'])\n",
    "#df2['aaa']=val\n",
    "#df2['bbb']=0.3\n",
    "df2.bbb=[1,2,3,4,5]\n",
    "#df2['bbb']=3\n",
    "#del df2['zero']\n",
    "#del df2['height_point']\n",
    "#del df2['aaa']\n",
    "del df2['bbb']\n",
    "df2"
   ]
  },
  {
   "cell_type": "code",
   "execution_count": null,
   "metadata": {},
   "outputs": [],
   "source": [
    "df2.loc['six']=[2013,'Jun',4.3,2.0]\n",
    "df2"
   ]
  },
  {
   "cell_type": "code",
   "execution_count": null,
   "metadata": {},
   "outputs": [],
   "source": [
    "df2.iloc[[1,3,5],[0,2]]"
   ]
  },
  {
   "cell_type": "code",
   "execution_count": null,
   "metadata": {},
   "outputs": [],
   "source": [
    "print(df2.loc[df2['points']>2],)"
   ]
  },
  {
   "cell_type": "code",
   "execution_count": null,
   "metadata": {},
   "outputs": [],
   "source": [
    "print(df2.loc[df2['years']>2014,['years','points']])"
   ]
  },
  {
   "cell_type": "code",
   "execution_count": null,
   "metadata": {},
   "outputs": [],
   "source": [
    "df2.loc[df2['points']>3, 'penalty']=0\n",
    "df2['aaa']=0\n",
    "df2\n"
   ]
  },
  {
   "cell_type": "code",
   "execution_count": null,
   "metadata": {},
   "outputs": [],
   "source": [
    "df2.loc[(df2['years']>2015) & (df2['points']>3),'aaa']=15\n",
    "df2"
   ]
  },
  {
   "cell_type": "code",
   "execution_count": null,
   "metadata": {},
   "outputs": [],
   "source": [
    "df=pd.DataFrame(np.random.rand(6,4))\n",
    "df"
   ]
  },
  {
   "cell_type": "code",
   "execution_count": null,
   "metadata": {},
   "outputs": [],
   "source": [
    "pd.to_datetime('20191118')"
   ]
  },
  {
   "cell_type": "code",
   "execution_count": null,
   "metadata": {},
   "outputs": [],
   "source": [
    "print(df.sum(axis=0, skipna=False))\n",
    "print(df.sum(axis=1))"
   ]
  },
  {
   "cell_type": "code",
   "execution_count": null,
   "metadata": {},
   "outputs": [],
   "source": [
    "#df2=pd.DataFrame(np.random.rand(6,4),columns=['A','B','C', 'D'],\\\n",
    "                    #index=pd.date_range('20190701', periods=6))\n",
    "#df2['A'].value_counts()\n",
    "\n",
    "data={'A':[1,2,1,4],'B':['a','b','a','c']}\n",
    "df=pd.DataFrame(data)\n",
    "df['B'].value_counts()\n",
    "df.sort_values(by='B',ascending=False)\n",
    "df"
   ]
  },
  {
   "cell_type": "markdown",
   "metadata": {},
   "source": [
    "df3=pd.DataFrame(np.random.rand(4,3),columns=['b','d','e'],\\\n",
    "                index=['Seoul','Incheon','Busan','Daegu'])\n",
    "df3      "
   ]
  },
  {
   "cell_type": "code",
   "execution_count": null,
   "metadata": {},
   "outputs": [],
   "source": [
    "df3=pd.DataFrame(np.random.rand(4,3),columns=['b','d','e'],\n",
    "index=['Seoul','Incheon','Busan','Daegu'])\n",
    "df3"
   ]
  },
  {
   "cell_type": "code",
   "execution_count": null,
   "metadata": {},
   "outputs": [],
   "source": [
    "df3.sort_index(axis=0)"
   ]
  },
  {
   "cell_type": "code",
   "execution_count": null,
   "metadata": {},
   "outputs": [],
   "source": [
    "func=lambda x:x.max()-x.min()\n",
    "def func(x):\n",
    "    return x.max()-x.min()\n",
    "print(df3.max(axis=0))\n",
    "print(df3.min(axis=0))\n",
    "print(df3.apply(func,axis=0))"
   ]
  },
  {
   "cell_type": "code",
   "execution_count": null,
   "metadata": {},
   "outputs": [],
   "source": [
    "input_file=\"data/input.csv\"\n",
    "output_file=\"data/output1.csv\"\n",
    "with open(input_file,'r',newline='') as reader:\n",
    "    with open(output_file,'w', newline='') as writer:\n",
    "        header=reader.readline()\n",
    "        header=header.strip()\n",
    "        header_list=header.split(',')\n",
    "        print(header_list)\n",
    "        \n",
    "        writer.write(','.join(map(str,header_list))+'\\n')\n",
    "        for row in reader:\n",
    "            row=row.strip()\n",
    "            row_list=row.split(',')\n",
    "            print(row_list)\n",
    "            writer.writer(','.join(map(str,row_list))+'\\n')\n",
    "        "
   ]
  },
  {
   "cell_type": "code",
   "execution_count": null,
   "metadata": {},
   "outputs": [],
   "source": [
    "import sys\n",
    "input_file=\"data/input.csv\"\n",
    "output_file=\"data/output2.csv\"\n",
    "data_frame=pd.read_csv(input_file)\n",
    "print(data_frame)\n",
    "data_frame.to_csv(output_file,index=False)"
   ]
  },
  {
   "cell_type": "code",
   "execution_count": 14,
   "metadata": {},
   "outputs": [
    {
     "name": "stdout",
     "output_type": "stream",
     "text": [
      "['A', '001-1001', '5407', '750000', '2014-01-20']\n",
      "['A', '001-1001', '2341', '750000', '2014-01-20']\n"
     ]
    }
   ],
   "source": [
    "import csv\n",
    "input_file=\"data/input.csv\"\n",
    "output_file=\"data/output4.csv\"\n",
    "with open(input_file,'r',newline='')as csv_in_file:\n",
    "    with open(output_file,'w',newline='')as csv_out_file:\n",
    "        filereader=csv.reader(csv_in_file)\n",
    "        filewriter=csv.writer(csv_out_file)\n",
    "        header=next(filereader)\n",
    "        filewriter.writerow(header)\n",
    "        for row in filereader:\n",
    "            supplier=str(row[0]).strip()\n",
    "            cost=str(row[3]).strip('$').replace(',','')\n",
    "            if supplier=='A' and float(cost)>=600000.0:\n",
    "                print(row)\n",
    "                filewriter.writerow(row)\n",
    "            "
   ]
  },
  {
   "cell_type": "code",
   "execution_count": 18,
   "metadata": {},
   "outputs": [
    {
     "name": "stdout",
     "output_type": "stream",
     "text": [
      "  Supplier Name Invoice Number  Part Number      Cost Purchase Date\n",
      "2             A       001-1001         5407  750000.0    2014-01-20\n",
      "3             A       001-1001         2341  750000.0    2014-01-20\n"
     ]
    }
   ],
   "source": [
    "output_file=\"data/output5.csv\"\n",
    "df=pd.read_csv(input_file)\n",
    "df['Cost']=df['Cost'].str.strip('$').str.replace(',','').astype(float)\n",
    "result=df.loc[(df['Supplier Name'].str.contains('A')) & (df['Cost']>600000.0),:]\n",
    "print(result)\n",
    "result"
   ]
  }
 ],
 "metadata": {
  "kernelspec": {
   "display_name": "Python 3",
   "language": "python",
   "name": "python3"
  },
  "language_info": {
   "codemirror_mode": {
    "name": "ipython",
    "version": 3
   },
   "file_extension": ".py",
   "mimetype": "text/x-python",
   "name": "python",
   "nbconvert_exporter": "python",
   "pygments_lexer": "ipython3",
   "version": "3.7.4"
  }
 },
 "nbformat": 4,
 "nbformat_minor": 2
}
