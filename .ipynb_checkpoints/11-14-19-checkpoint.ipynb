{
 "cells": [
  {
   "cell_type": "code",
   "execution_count": 99,
   "metadata": {},
   "outputs": [
    {
     "name": "stdout",
     "output_type": "stream",
     "text": [
      "TEAMLAB\n"
     ]
    }
   ],
   "source": [
    "a=\"TEAM\"\n",
    "b=\"LAB\"\n",
    "print(a+\"\"+b)\n",
    "\n",
    "            "
   ]
  },
  {
   "cell_type": "code",
   "execution_count": 100,
   "metadata": {},
   "outputs": [
    {
     "name": "stdout",
     "output_type": "stream",
     "text": [
      "TEAMTEAMLABLAB\n",
      "TEAM\n"
     ]
    }
   ],
   "source": [
    "a=\"TEAM\"\n",
    "b=\"LAB\"\n",
    "print(a*2+\"\"+b*2)\n",
    "if 'A' in a:print(a)\n",
    "else:print(b)"
   ]
  },
  {
   "cell_type": "code",
   "execution_count": 12,
   "metadata": {},
   "outputs": [
    {
     "name": "stdout",
     "output_type": "stream",
     "text": [
      "TEAMLAB X INFLEARN\n",
      "teamlab x inflearn\n",
      "Teamlab X Inflearn\n",
      "Teamlab x inflearn\n",
      "2\n"
     ]
    }
   ],
   "source": [
    "title=\"TEAMLAB X inflearn\"\n",
    "print(title.upper())\n",
    "print(title.lower())\n",
    "print(title.title())\n",
    "print(title.capitalize())\n",
    "print(title.count('A'))"
   ]
  },
  {
   "cell_type": "code",
   "execution_count": null,
   "metadata": {},
   "outputs": [],
   "source": []
  },
  {
   "cell_type": "code",
   "execution_count": 18,
   "metadata": {},
   "outputs": [
    {
     "name": "stdout",
     "output_type": "stream",
     "text": [
      "Number of a Word 'Yesterday' 9\n"
     ]
    }
   ],
   "source": [
    "f=open(\"yesterday.txt\", 'r')\n",
    "yesterday_lyric=f.readlines()\n",
    "f.close()\n",
    "\n",
    "contents=\"\"\n",
    "for line in yesterday_lyric:\n",
    "    contents=contents+line.strip()+\"\\n\"\n",
    "\n",
    "n_of_yesterday=contents.upper().count(\"YESTERDAY\")\n",
    "print(\"Number of a Word 'Yesterday'\", n_of_yesterday)"
   ]
  },
  {
   "cell_type": "code",
   "execution_count": 20,
   "metadata": {},
   "outputs": [
    {
     "name": "stdout",
     "output_type": "stream",
     "text": [
      "1 2 3\n",
      "abc\n",
      "1 2 3\n"
     ]
    }
   ],
   "source": [
    "print(1,2,3)\n",
    "print(\"a\"+\"\"+\"b\"+\"\"+\"c\")\n",
    "print(\"%d %d %d\" %(1,2,3))"
   ]
  },
  {
   "cell_type": "code",
   "execution_count": 23,
   "metadata": {},
   "outputs": [
    {
     "name": "stdout",
     "output_type": "stream",
     "text": [
      "abc\n"
     ]
    }
   ],
   "source": [
    "print(\"{}{}{}\".format(\"a\",\"b\",\"c\"))"
   ]
  },
  {
   "cell_type": "code",
   "execution_count": 29,
   "metadata": {},
   "outputs": [
    {
     "name": "stdout",
     "output_type": "stream",
     "text": [
      "10 20 30\n",
      "3.33          20    30\n",
      "30 10 20\n",
      "%o %x %d\n"
     ]
    }
   ],
   "source": [
    "a=10\n",
    "b=20\n",
    "c=30\n",
    "print(a,b,c)\n",
    "print(\"%-5.2f %10d %5d\"%(a/3,b,c))\n",
    "print(\"{2} {0} {1}\".format(a,b,c))\n",
    "print(\"%o %x %d\")"
   ]
  },
  {
   "cell_type": "code",
   "execution_count": 35,
   "metadata": {},
   "outputs": [
    {
     "name": "stdout",
     "output_type": "stream",
     "text": [
      "i'm 20 years old.\n",
      "My name is Jessica and 20years old.\n",
      "Product:Apple, Price per unit:5.24.\n"
     ]
    }
   ],
   "source": [
    "age=20; name=\"Jessica\"\n",
    "print(\"i'm {0} years old.\".format(age))\n",
    "print(\"My name is {0} and {1}years old.\".format(name,age))\n",
    "print(\"Product:{0}, Price per unit:{1:.2f}.\".format(\"Apple\",5.243))"
   ]
  },
  {
   "cell_type": "code",
   "execution_count": 39,
   "metadata": {},
   "outputs": [
    {
     "name": "stdout",
     "output_type": "stream",
     "text": [
      "이름:Leah이고 나이는26이며 키는     162.52입니다.\n",
      "%(h)s이고 나이는 %(a)d이며 키는 %(h)5.2f입니다.\n"
     ]
    },
    {
     "ename": "TypeError",
     "evalue": "unsupported operand type(s) for %: 'NoneType' and 'dict'",
     "output_type": "error",
     "traceback": [
      "\u001b[1;31m---------------------------------------------------------------------------\u001b[0m",
      "\u001b[1;31mTypeError\u001b[0m                                 Traceback (most recent call last)",
      "\u001b[1;32m<ipython-input-39-7d23c0d18a63>\u001b[0m in \u001b[0;36m<module>\u001b[1;34m\u001b[0m\n\u001b[0;32m      1\u001b[0m \u001b[0mage\u001b[0m\u001b[1;33m=\u001b[0m\u001b[1;36m26\u001b[0m\u001b[1;33m;\u001b[0m \u001b[0mname\u001b[0m\u001b[1;33m=\u001b[0m\u001b[1;34m'Leah'\u001b[0m\u001b[1;33m;\u001b[0m \u001b[0mheight\u001b[0m\u001b[1;33m=\u001b[0m\u001b[1;36m162.52\u001b[0m\u001b[1;33m\u001b[0m\u001b[1;33m\u001b[0m\u001b[0m\n\u001b[0;32m      2\u001b[0m \u001b[0mprint\u001b[0m\u001b[1;33m(\u001b[0m\u001b[1;34m\"이름:{n}이고 나이는{a}이며 키는 {h:>10.2f}입니다.\"\u001b[0m\u001b[1;33m.\u001b[0m\u001b[0mformat\u001b[0m\u001b[1;33m(\u001b[0m\u001b[0mn\u001b[0m\u001b[1;33m=\u001b[0m\u001b[0mname\u001b[0m\u001b[1;33m,\u001b[0m\u001b[0ma\u001b[0m\u001b[1;33m=\u001b[0m\u001b[0mage\u001b[0m\u001b[1;33m,\u001b[0m\u001b[0mh\u001b[0m\u001b[1;33m=\u001b[0m\u001b[0mheight\u001b[0m\u001b[1;33m)\u001b[0m\u001b[1;33m)\u001b[0m\u001b[1;33m\u001b[0m\u001b[1;33m\u001b[0m\u001b[0m\n\u001b[1;32m----> 3\u001b[1;33m \u001b[0mprint\u001b[0m\u001b[1;33m(\u001b[0m\u001b[1;34m\"%(h)s이고 나이는 %(a)d이며 키는 %(h)5.2f입니다.\"\u001b[0m\u001b[1;33m)\u001b[0m\u001b[1;33m%\u001b[0m\u001b[1;33m{\u001b[0m\u001b[1;34m\"n\"\u001b[0m\u001b[1;33m:\u001b[0m\u001b[0mname\u001b[0m\u001b[1;33m,\u001b[0m \u001b[1;34m\"a\"\u001b[0m\u001b[1;33m:\u001b[0m\u001b[0mage\u001b[0m\u001b[1;33m,\u001b[0m \u001b[1;34m\"h\"\u001b[0m\u001b[1;33m:\u001b[0m\u001b[0mheight\u001b[0m\u001b[1;33m}\u001b[0m\u001b[1;33m\u001b[0m\u001b[1;33m\u001b[0m\u001b[0m\n\u001b[0m",
      "\u001b[1;31mTypeError\u001b[0m: unsupported operand type(s) for %: 'NoneType' and 'dict'"
     ]
    }
   ],
   "source": [
    "age=26; name='Leah'; height=162.52\n",
    "print(\"이름:{n}이고 나이는{a}이며 키는 {h:>10.2f}입니다.\".format(n=name,a=age,h=height))\n",
    "print(\"%(h)s이고 나이는 %(a)d이며 키는 %(h)5.2f입니다.\")%{\"n\":name, \"a\":age, \"h\":height}"
   ]
  },
  {
   "cell_type": "code",
   "execution_count": 41,
   "metadata": {},
   "outputs": [
    {
     "name": "stdout",
     "output_type": "stream",
     "text": [
      "[1, 2, 3]\n",
      "3\n",
      "2\n"
     ]
    }
   ],
   "source": [
    "a=[1]\n",
    "a.append(2)\n",
    "a.append(3)\n",
    "print(a)\n",
    "print(a.pop())\n",
    "print(a.pop())"
   ]
  },
  {
   "cell_type": "code",
   "execution_count": 53,
   "metadata": {},
   "outputs": [
    {
     "name": "stdout",
     "output_type": "stream",
     "text": [
      "['p', 'y', 't', 'h', 'o', 'n']\n",
      "python\n",
      "['n', 'o', 'h', 't', 'y', 'p']\n",
      "nohtyp\n"
     ]
    }
   ],
   "source": [
    "word='python'\n",
    "word_list=list(word)\n",
    "print(word_list)\n",
    "print(word)\n",
    "result=[]\n",
    "for _ in range(len(word_list)):\n",
    "    result.append(word_list.pop())\n",
    "\n",
    "print(result)\n",
    "print(word[::-1])"
   ]
  },
  {
   "cell_type": "code",
   "execution_count": 55,
   "metadata": {},
   "outputs": [
    {
     "data": {
      "text/plain": [
       "5"
      ]
     },
     "execution_count": 55,
     "metadata": {},
     "output_type": "execute_result"
    }
   ],
   "source": [
    "a=[1,2,3,4,5]\n",
    "a.append(10)\n",
    "a.append(20)\n",
    "a.pop(4)\n"
   ]
  },
  {
   "cell_type": "code",
   "execution_count": 59,
   "metadata": {},
   "outputs": [
    {
     "name": "stdout",
     "output_type": "stream",
     "text": [
      "1\n",
      "(1, 2, 3, 1, 2, 3) (1, 2, 3, 1, 2, 3, 1, 2, 3)\n",
      "3\n"
     ]
    }
   ],
   "source": [
    "t=(1,2,3)\n",
    "print(t[0])\n",
    "print(t+t,t*3)\n",
    "print(len(t))\n"
   ]
  },
  {
   "cell_type": "code",
   "execution_count": 65,
   "metadata": {},
   "outputs": [
    {
     "name": "stdout",
     "output_type": "stream",
     "text": [
      "{1, 2, 3}\n",
      "{1, 2, 3, 6}\n",
      "{2, 3, 6}\n"
     ]
    }
   ],
   "source": [
    "s=set([1,2,3])\n",
    "print(s)\n",
    "s1={1,3,4,5}\n",
    "s.add(6)\n",
    "print(s)\n",
    "s.remove(1)\n",
    "print(s)"
   ]
  },
  {
   "cell_type": "code",
   "execution_count": 71,
   "metadata": {},
   "outputs": [
    {
     "name": "stdout",
     "output_type": "stream",
     "text": [
      "{1, 2, 3, 4, 5}\n",
      "{1, 2, 3, 4, 5}\n",
      "{2}\n"
     ]
    }
   ],
   "source": [
    "s1=set([1,2,3])\n",
    "s2={2,4,5}\n",
    "s3=s1.union(s2)\n",
    "print(s3)\n",
    "s3=s1 | s2\n",
    "print(s3)\n",
    "print(s1.intersection(s2))"
   ]
  },
  {
   "cell_type": "code",
   "execution_count": 77,
   "metadata": {},
   "outputs": [
    {
     "name": "stdout",
     "output_type": "stream",
     "text": [
      "{'Leah': 80, 'Tommy': 85, 'James': 82}\n",
      "80\n",
      "dict_keys(['Leah', 'Tommy', 'James'])\n",
      "dict_items([('Leah', 80), ('Tommy', 85), ('James', 82)])\n",
      "Leah 80\n",
      "Tommy 85\n",
      "James 82\n",
      "False\n"
     ]
    }
   ],
   "source": [
    "student={'Leah':80,'Tommy':85,'James':82}\n",
    "print(student)\n",
    "print(student['Leah'])\n",
    "print(student.keys())\n",
    "print(student.items())\n",
    "\n",
    "for k,v in student.items():\n",
    "    print(k,v)\n",
    "print('Daizy' in student.keys())"
   ]
  },
  {
   "cell_type": "code",
   "execution_count": 84,
   "metadata": {},
   "outputs": [
    {
     "name": "stdout",
     "output_type": "stream",
     "text": [
      "deque([4, 3, 2, 1, 0])\n"
     ]
    },
    {
     "ename": "TypeError",
     "evalue": "pop() takes no arguments (1 given)",
     "output_type": "error",
     "traceback": [
      "\u001b[1;31m---------------------------------------------------------------------------\u001b[0m",
      "\u001b[1;31mTypeError\u001b[0m                                 Traceback (most recent call last)",
      "\u001b[1;32m<ipython-input-84-e367ba826d19>\u001b[0m in \u001b[0;36m<module>\u001b[1;34m\u001b[0m\n\u001b[0;32m      5\u001b[0m \u001b[1;33m\u001b[0m\u001b[0m\n\u001b[0;32m      6\u001b[0m \u001b[0mprint\u001b[0m\u001b[1;33m(\u001b[0m\u001b[0mnum_deque\u001b[0m\u001b[1;33m)\u001b[0m\u001b[1;33m\u001b[0m\u001b[1;33m\u001b[0m\u001b[0m\n\u001b[1;32m----> 7\u001b[1;33m \u001b[0mprint\u001b[0m\u001b[1;33m(\u001b[0m\u001b[0mnum_deque\u001b[0m\u001b[1;33m.\u001b[0m\u001b[0mpop\u001b[0m\u001b[1;33m(\u001b[0m\u001b[1;36m0\u001b[0m\u001b[1;33m)\u001b[0m\u001b[1;33m)\u001b[0m\u001b[1;33m\u001b[0m\u001b[1;33m\u001b[0m\u001b[0m\n\u001b[0m\u001b[0;32m      8\u001b[0m \u001b[0mprint\u001b[0m\u001b[1;33m(\u001b[0m\u001b[0mnum_deque\u001b[0m\u001b[1;33m.\u001b[0m\u001b[0mpop\u001b[0m\u001b[1;33m(\u001b[0m\u001b[1;36m0\u001b[0m\u001b[1;33m)\u001b[0m\u001b[1;33m)\u001b[0m\u001b[1;33m\u001b[0m\u001b[1;33m\u001b[0m\u001b[0m\n\u001b[0;32m      9\u001b[0m \u001b[0mprint\u001b[0m\u001b[1;33m(\u001b[0m\u001b[0mnum_deque\u001b[0m\u001b[1;33m)\u001b[0m\u001b[1;33m\u001b[0m\u001b[1;33m\u001b[0m\u001b[0m\n",
      "\u001b[1;31mTypeError\u001b[0m: pop() takes no arguments (1 given)"
     ]
    }
   ],
   "source": [
    "from collections import deque\n",
    "num_deque=deque()\n",
    "for i in range(0,5,1):\n",
    "    num_deque.appendleft(i)\n",
    "    \n",
    "print(num_deque)\n",
    "print(num_deque.pop(0))\n",
    "print(num_deque.pop(0))\n",
    "print(num_deque)"
   ]
  },
  {
   "cell_type": "code",
   "execution_count": 93,
   "metadata": {},
   "outputs": [
    {
     "name": "stdout",
     "output_type": "stream",
     "text": [
      "x : 100\n",
      "y : 200\n",
      "z : 300\n",
      "l : 500\n"
     ]
    }
   ],
   "source": [
    "def sort_by_key(t):\n",
    "    return t[1]\n",
    "\n",
    "from collections import OrderedDict\n",
    "d=dict()\n",
    "d['x']=100\n",
    "d['l']=500\n",
    "d['y']=200\n",
    "d['z']=300\n",
    "for k,v in OrderedDict(sorted(d.items(),key=sort_by_key)).items():\n",
    "    print('{} : {}'.format(k,v))\n"
   ]
  },
  {
   "cell_type": "code",
   "execution_count": 97,
   "metadata": {},
   "outputs": [
    {
     "data": {
      "text/plain": [
       "['g', 'a', 'l', 'l', 'a', 'h', 'a', 'd']"
      ]
     },
     "execution_count": 97,
     "metadata": {},
     "output_type": "execute_result"
    }
   ],
   "source": [
    "from collections import Counter\n",
    "\n",
    "text=list(\"gallahad\")\n",
    "text\n"
   ]
  },
  {
   "cell_type": "code",
   "execution_count": 98,
   "metadata": {},
   "outputs": [
    {
     "data": {
      "text/plain": [
       "3"
      ]
     },
     "execution_count": 98,
     "metadata": {},
     "output_type": "execute_result"
    }
   ],
   "source": [
    "c=Counter(text)\n",
    "c\n",
    "Counter({'a':3,'l':2,'g':1,'h':1,'d':1})\n",
    "c[\"a\"]"
   ]
  },
  {
   "cell_type": "code",
   "execution_count": 103,
   "metadata": {},
   "outputs": [
    {
     "name": "stdout",
     "output_type": "stream",
     "text": [
      "Counter({'dogs': 8, 'cats': 4})\n",
      "['cats', 'cats', 'cats', 'cats', 'dogs', 'dogs', 'dogs', 'dogs', 'dogs', 'dogs', 'dogs', 'dogs']\n"
     ]
    }
   ],
   "source": [
    "from collections import Counter\n",
    "\n",
    "c=Counter(cats=4,dogs=8)\n",
    "print(c)\n",
    "print(list(c.elements()))"
   ]
  },
  {
   "cell_type": "code",
   "execution_count": 105,
   "metadata": {},
   "outputs": [
    {
     "data": {
      "text/plain": [
       "Counter({'a': 3, 'b': 0, 'c': -3, 'd': -6})"
      ]
     },
     "execution_count": 105,
     "metadata": {},
     "output_type": "execute_result"
    }
   ],
   "source": [
    "from collections import Counter\n",
    "\n",
    "c=Counter(a=4,b=2,c=0,d=-2)\n",
    "d=Counter(a=1,b=2,c=3,d=4)\n",
    "c.subtract(d)\n",
    "c"
   ]
  },
  {
   "cell_type": "code",
   "execution_count": 108,
   "metadata": {},
   "outputs": [
    {
     "data": {
      "text/plain": [
       "Counter({'a': -3, 'b': 0, 'c': 3, 'd': 6})"
      ]
     },
     "execution_count": 108,
     "metadata": {},
     "output_type": "execute_result"
    }
   ],
   "source": [
    "from collections import Counter\n",
    "\n",
    "c=Counter(a=4,b=2,c=0,d=-2)\n",
    "d=Counter(a=1,b=2,c=3,d=4)\n",
    "d.subtract(c)\n",
    "d"
   ]
  }
 ],
 "metadata": {
  "kernelspec": {
   "display_name": "Python 3",
   "language": "python",
   "name": "python3"
  },
  "language_info": {
   "codemirror_mode": {
    "name": "ipython",
    "version": 3
   },
   "file_extension": ".py",
   "mimetype": "text/x-python",
   "name": "python",
   "nbconvert_exporter": "python",
   "pygments_lexer": "ipython3",
   "version": "3.7.4"
  }
 },
 "nbformat": 4,
 "nbformat_minor": 2
}
