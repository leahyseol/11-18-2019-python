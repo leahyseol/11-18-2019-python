{
 "cells": [
  {
   "cell_type": "code",
   "execution_count": null,
   "metadata": {},
   "outputs": [],
   "source": [
    "print(\"tell me your age\")\n",
    "myage=int(input())\n",
    "if myage<30:\n",
    "    print(\"welcome to this club\")\n",
    "else: \n",
    "    print(\"You are not accepted\")"
   ]
  },
  {
   "cell_type": "code",
   "execution_count": null,
   "metadata": {},
   "outputs": [],
   "source": [
    "a=100\n",
    "b=100\n",
    "print(a is b)\n",
    "\n"
   ]
  },
  {
   "cell_type": "code",
   "execution_count": null,
   "metadata": {},
   "outputs": [],
   "source": [
    "a=300\n",
    "b=100\n",
    "print(a is b)\n"
   ]
  },
  {
   "cell_type": "code",
   "execution_count": null,
   "metadata": {},
   "outputs": [],
   "source": [
    "String aa=\"java\";\n",
    "String bb=\"java\";"
   ]
  },
  {
   "cell_type": "code",
   "execution_count": null,
   "metadata": {},
   "outputs": [],
   "source": [
    "(3>5)<10"
   ]
  },
  {
   "cell_type": "code",
   "execution_count": null,
   "metadata": {},
   "outputs": [],
   "source": [
    "print((3>5)<10)"
   ]
  },
  {
   "cell_type": "code",
   "execution_count": null,
   "metadata": {},
   "outputs": [],
   "source": [
    "score = int(input(\"Enter your score:\"))\n",
    "\n",
    "if score >=90: grade='A'\n",
    "elif score >=80: grade='B'\n",
    "elif score >=70: grade='C'\n",
    "elif score >=60: grade='D'\n",
    "elif score < 60:grade='F'\n",
    "    \n",
    "print(grade)"
   ]
  },
  {
   "cell_type": "code",
   "execution_count": null,
   "metadata": {},
   "outputs": [],
   "source": [
    "age = int(input(\"enter your age:\"))\n",
    "\n",
    "\n",
    "if age <= 26: print(\"not a student\")\n",
    "    if age >=20 :print(\"collage\")\n",
    "    elif age >= 17 : print(\"high\")\n",
    "    elif age >=14 : print(\"middle\")\n",
    "    elif age >=8 : print(\"elementary\")\n",
    "    elif school: print(\"not a student\")\n",
    "\n",
    "print(age)"
   ]
  },
  {
   "cell_type": "code",
   "execution_count": null,
   "metadata": {},
   "outputs": [],
   "source": [
    "for looper in[1,2,3,4,5]:\n",
    "    print(\"hello\")"
   ]
  },
  {
   "cell_type": "code",
   "execution_count": null,
   "metadata": {
    "scrolled": true
   },
   "outputs": [],
   "source": [
    "for looper in range(10):\n",
    "    print(\"hello\")"
   ]
  },
  {
   "cell_type": "code",
   "execution_count": null,
   "metadata": {
    "scrolled": true
   },
   "outputs": [],
   "source": [
    "for e in range(1,10,3):\n",
    "    print(e)"
   ]
  },
  {
   "cell_type": "code",
   "execution_count": null,
   "metadata": {},
   "outputs": [],
   "source": [
    "i=1\n",
    "while i<10:\n",
    "    print(i)\n",
    "    i+=1"
   ]
  },
  {
   "cell_type": "code",
   "execution_count": null,
   "metadata": {},
   "outputs": [],
   "source": [
    "sentence = \"I love you James\"\n",
    "reverse_sentence=''\n",
    "for char in sentence:\n",
    "    reverse_sentence = char+reverse_sentence\n",
    "print(reverse_sentence)"
   ]
  },
  {
   "cell_type": "code",
   "execution_count": null,
   "metadata": {},
   "outputs": [],
   "source": [
    "a=['leah', 'tommy', 'ddingddong']\n",
    "for i in a:\n",
    "    print(i)\n",
    "#for(int i=0; i<10;i++)\n",
    "for i in range(10,0,-1):\n",
    "    print(i)"
   ]
  },
  {
   "cell_type": "code",
   "execution_count": null,
   "metadata": {},
   "outputs": [],
   "source": [
    "for i in range(10):\n",
    "    if i==5: continue\n",
    "    print(i)\n",
    "print(\"End\")"
   ]
  },
  {
   "cell_type": "code",
   "execution_count": null,
   "metadata": {},
   "outputs": [],
   "source": [
    "for i in range(10):\n",
    "    print(i)\n",
    "    if i==5: continue\n",
    "print(\"End\")"
   ]
  },
  {
   "cell_type": "code",
   "execution_count": null,
   "metadata": {},
   "outputs": [],
   "source": [
    "dan = input('구구단 몇단을 계산할까?')\n",
    "for i in range(1,10):\n",
    "    print(dan,'x',i,'=',int(dan)*i)\n"
   ]
  },
  {
   "cell_type": "code",
   "execution_count": null,
   "metadata": {},
   "outputs": [],
   "source": [
    "for i in range(1,10):\n",
    "    for j in range(2,10):\n",
    "        print(j,\"*\", i, \"=\", j*i, end=\"\\t\")\n",
    "    print()"
   ]
  },
  {
   "cell_type": "code",
   "execution_count": null,
   "metadata": {},
   "outputs": [],
   "source": [
    "str=\"James\"\n",
    "for i in str:\n",
    "    str=str[1:]+i\n",
    "    print(str)"
   ]
  },
  {
   "cell_type": "code",
   "execution_count": null,
   "metadata": {},
   "outputs": [],
   "source": [
    "str=\"James\"\n",
    "for i in str:\n",
    "    str=str[0:]+i\n",
    "    print(str)"
   ]
  },
  {
   "cell_type": "code",
   "execution_count": null,
   "metadata": {},
   "outputs": [],
   "source": [
    "str=\"James\"\n",
    "for i in str:\n",
    "    str=str[2:]+i\n",
    "    print(str)"
   ]
  },
  {
   "cell_type": "code",
   "execution_count": null,
   "metadata": {
    "scrolled": true
   },
   "outputs": [],
   "source": [
    "num=10\n",
    "result=\"\"\n",
    "while num>0:\n",
    "    res=num%2\n",
    "    num=num//2\n",
    "    bina=str(re)+bina\n",
    "print(bina)"
   ]
  },
  {
   "cell_type": "markdown",
   "metadata": {},
   "source": [
    "kor_score=[49,80,20,100,80]\n",
    "math_score=[43,60,85,30,90]\n",
    "eng_score=[49,82,48,50,100]\n",
    "midterm_score=[kor_score,math_score,eng_score]\n",
    "\n",
    "student_score=[0,0,0,0,0]\n",
    "i=0\n",
    "for subject in midterm_score:\n",
    "    for score in subject:\n",
    "        student_score[i]+=score\n",
    "        i+=1\n",
    "    i=0\n",
    "else:\n",
    "    a,b,c,d,e=student_score\n",
    "    student_average=[a/3, b/3, c/3, d/3, e/3]\n",
    "    print(student_average)"
   ]
  },
  {
   "cell_type": "code",
   "execution_count": null,
   "metadata": {
    "scrolled": true
   },
   "outputs": [],
   "source": [
    "kor_score=[49,80,20,100,80] \n",
    "math_score=[43,60,85,30,90] \n",
    "eng_score=[49,82,48,50,100] \n",
    "midterm_score=[kor_score,math_score,eng_score]\n",
    "\n",
    "student_score=[0,0,0,0,0] \n",
    "i=0 \n",
    "for subject in midterm_score: \n",
    "    for score in subject: \n",
    "        student_score[i]+=score \n",
    "        i+=1 \n",
    "    i=0 \n",
    "else: \n",
    "    a,b,c,d,e=student_score \n",
    "    student_average=[a/3, b/3, c/3, d/3, e/3] \n",
    "    print(student_average)"
   ]
  },
  {
   "cell_type": "code",
   "execution_count": null,
   "metadata": {},
   "outputs": [],
   "source": [
    "kor_score=[50,60,70,80,90]\n",
    "math_score=[50,60,70,80,90]\n",
    "e_score=[100,85,68,75,50]\n",
    "avg_score=[0,0,0,0,0]\n",
    "score=[kor_score, math_score, e_score]\n",
    "for i in range(3):\n",
    "    for j in range(5):\n",
    "        avg_score[j]+=score[i][j]\n",
    "    print(avg_score)"
   ]
  },
  {
   "cell_type": "code",
   "execution_count": null,
   "metadata": {},
   "outputs": [],
   "source": [
    "def func1(a):\n",
    "    a=5\n",
    "    print(a)\n",
    "i=10\n",
    "func1(i)\n",
    "print(i)"
   ]
  },
  {
   "cell_type": "code",
   "execution_count": null,
   "metadata": {},
   "outputs": [],
   "source": [
    "def func1():\n",
    "    s='i love ATL'\n",
    "    print(s)\n",
    "    \n",
    "s='i love NY'\n",
    "func1()\n",
    "print(s)"
   ]
  },
  {
   "cell_type": "code",
   "execution_count": null,
   "metadata": {},
   "outputs": [],
   "source": [
    "def factorial(n):\n",
    "    if n==1:\n",
    "        return 1\n",
    "    else:\n",
    "        print(n,'*',end='')\n",
    "        return n*factorial(n-1)\n",
    "num=int(input('how to calculate factorial '))\n",
    "print(str(num)+'!=', end='')\n",
    "result=factorial(num)\n",
    "print(1,'=',result)"
   ]
  },
  {
   "cell_type": "code",
   "execution_count": null,
   "metadata": {},
   "outputs": [],
   "source": [
    "def print_something(my_name, your_name):\n",
    "    print(\"Hello{0}, My name is {1}\".format(your_name, my_name))\n",
    "    \n",
    "print_something(\"James\", \"Thomas Horstmeyer\")\n",
    "print_something(your_name=\"TEAMLAB\", my_name=\"James\")"
   ]
  },
  {
   "cell_type": "code",
   "execution_count": 3,
   "metadata": {},
   "outputs": [
    {
     "name": "stdout",
     "output_type": "stream",
     "text": [
      "i=20, j=10\n",
      "i=10, j=30\n",
      "i=50, j=20\n"
     ]
    }
   ],
   "source": [
    "def func(i,j=20): #default value is not the first place\n",
    "    print('i={0}, j={1}'.format(i,j))\n",
    "\n",
    "func(j=10,i=20)\n",
    "func(10,30)\n",
    "func(50)"
   ]
  }
 ],
 "metadata": {
  "kernelspec": {
   "display_name": "Python 3",
   "language": "python",
   "name": "python3"
  },
  "language_info": {
   "codemirror_mode": {
    "name": "ipython",
    "version": 3
   },
   "file_extension": ".py",
   "mimetype": "text/x-python",
   "name": "python",
   "nbconvert_exporter": "python",
   "pygments_lexer": "ipython3",
   "version": "3.7.4"
  }
 },
 "nbformat": 4,
 "nbformat_minor": 2
}
