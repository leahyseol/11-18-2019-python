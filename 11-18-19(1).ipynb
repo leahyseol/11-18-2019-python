{
 "cells": [
  {
   "cell_type": "code",
   "execution_count": 1,
   "metadata": {},
   "outputs": [],
   "source": [
    "import numpy as np\n"
   ]
  },
  {
   "cell_type": "code",
   "execution_count": 2,
   "metadata": {},
   "outputs": [
    {
     "name": "stdout",
     "output_type": "stream",
     "text": [
      "[0.20020852 0.52440145 0.76174296 0.72432725 0.96271127 0.95774965\n",
      " 0.7378201  0.89674783 0.82838865 0.88378716]\n"
     ]
    }
   ],
   "source": [
    "data=np.random.rand(10)\n",
    "print(data)"
   ]
  },
  {
   "cell_type": "code",
   "execution_count": 6,
   "metadata": {},
   "outputs": [
    {
     "name": "stdout",
     "output_type": "stream",
     "text": [
      "[1, 2, 3, 4, 5]\n",
      "[1 2 3 4 5]\n",
      "<class 'list'>\n",
      "<class 'numpy.ndarray'>\n",
      "(5,)\n"
     ]
    }
   ],
   "source": [
    "data1=[1,2,3,4,5]\n",
    "arr1=np.array(data1)\n",
    "print(data1)\n",
    "print(arr1)\n",
    "print(type(data1))\n",
    "print(type(arr1))\n",
    "print(arr1.shape)"
   ]
  },
  {
   "cell_type": "code",
   "execution_count": 8,
   "metadata": {},
   "outputs": [
    {
     "name": "stdout",
     "output_type": "stream",
     "text": [
      "[[1 2 3]\n",
      " [4 5 6]]\n",
      "<class 'numpy.ndarray'>\n",
      "(2, 3)\n"
     ]
    }
   ],
   "source": [
    "data2=[[1,2,3],[4,5,6]]\n",
    "arr2=np.array(data2)\n",
    "print(arr2)\n",
    "print(type(arr2))\n",
    "print(arr2.shape)"
   ]
  },
  {
   "cell_type": "code",
   "execution_count": 13,
   "metadata": {},
   "outputs": [
    {
     "name": "stdout",
     "output_type": "stream",
     "text": [
      "[0.75904075 0.88290761 0.21617472 0.94330205 0.60376613]\n",
      "[0.44320951 0.5743047  0.62589377 0.32467749 0.34043583]\n",
      "[0.75904075 0.88290761 0.62589377 0.94330205 0.60376613]\n"
     ]
    }
   ],
   "source": [
    "x=np.random.rand(5)\n",
    "y=np.random.rand(5)\n",
    "z=np.maximum(x,y)\n",
    "print(x);print(y);print(z)"
   ]
  },
  {
   "cell_type": "code",
   "execution_count": 15,
   "metadata": {},
   "outputs": [
    {
     "name": "stdout",
     "output_type": "stream",
     "text": [
      "[0.7590407535761763, 0.8829076121835452, 0.6258937727434256, 0.9433020511073937, 0.603766130819495]\n"
     ]
    }
   ],
   "source": [
    "z=[]\n",
    "z2=[]\n",
    "for i in range(0,5,1):\n",
    "    if(x[i]>y[i]):\n",
    "        z.append(x[i])\n",
    "    else:\n",
    "        z.append(y[i])\n",
    "print(z)"
   ]
  },
  {
   "cell_type": "code",
   "execution_count": 29,
   "metadata": {},
   "outputs": [
    {
     "name": "stdout",
     "output_type": "stream",
     "text": [
      "[[5 2 3]\n",
      " [5 1 6]\n",
      " [7 3 9]]\n"
     ]
    }
   ],
   "source": [
    "data=[[5,2,3],[5,1,6],[7,3,9]]\n",
    "arr1=np.array(data)\n",
    "print(arr1)"
   ]
  },
  {
   "cell_type": "code",
   "execution_count": 31,
   "metadata": {},
   "outputs": [
    {
     "name": "stdout",
     "output_type": "stream",
     "text": [
      "41\n",
      "4.555555555555555\n",
      "[17  6 18]\n",
      "[10 12 19]\n",
      "[[5 1 3]\n",
      " [5 2 6]\n",
      " [7 3 9]]\n"
     ]
    }
   ],
   "source": [
    "print(arr1.sum())\n",
    "print(arr1.mean())\n",
    "print(arr1.sum(axis=0))\n",
    "print(arr1.sum(axis=1))\n",
    "print(np.sort(arr1,axis=0))"
   ]
  },
  {
   "cell_type": "code",
   "execution_count": 34,
   "metadata": {},
   "outputs": [
    {
     "name": "stdout",
     "output_type": "stream",
     "text": [
      "[1 2 1 3 2]\n"
     ]
    }
   ],
   "source": [
    "data=[1,2,1,3,2]\n",
    "arr1=np.array(data)\n",
    "print(arr1)"
   ]
  },
  {
   "cell_type": "code",
   "execution_count": 36,
   "metadata": {},
   "outputs": [
    {
     "name": "stdout",
     "output_type": "stream",
     "text": [
      "[1 2 3]\n"
     ]
    }
   ],
   "source": [
    "print(np.unique(arr1))#중복값 제거"
   ]
  },
  {
   "cell_type": "code",
   "execution_count": null,
   "metadata": {},
   "outputs": [],
   "source": []
  }
 ],
 "metadata": {
  "kernelspec": {
   "display_name": "Python 3",
   "language": "python",
   "name": "python3"
  },
  "language_info": {
   "codemirror_mode": {
    "name": "ipython",
    "version": 3
   },
   "file_extension": ".py",
   "mimetype": "text/x-python",
   "name": "python",
   "nbconvert_exporter": "python",
   "pygments_lexer": "ipython3",
   "version": "3.7.4"
  }
 },
 "nbformat": 4,
 "nbformat_minor": 2
}
