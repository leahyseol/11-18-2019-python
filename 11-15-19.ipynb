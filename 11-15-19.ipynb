{
 "cells": [
  {
   "cell_type": "code",
   "execution_count": 23,
   "metadata": {},
   "outputs": [],
   "source": [
    "class SoccerPlayer(object):\n",
    "    #필드 선언\n",
    "    def __init__(self, name, position, back_number):\n",
    "        self.name=name\n",
    "        self.position=position\n",
    "        self.back_number=back_number\n",
    "        \n",
    "    def change_back_number(self,new_number):\n",
    "        self.back_number=new_number\n",
    "        \n",
    "    def change_name(self,name):\n",
    "        self.name=name\n",
    "        \n",
    "    def __str__(self):\n",
    "        return \"Hello, My name is %s. I play in %s in center.\"%(self.name,self.position)\n",
    "    "
   ]
  },
  {
   "cell_type": "code",
   "execution_count": 25,
   "metadata": {},
   "outputs": [
    {
     "name": "stdout",
     "output_type": "stream",
     "text": [
      "현재 선수의 등번호는: 10\n",
      "현재 선수의 등번호는: 5\n",
      "Hello, My name is Jinhyun. I play in MF in center.\n",
      "Jinhyun\n",
      "MF\n",
      "JJW\n"
     ]
    }
   ],
   "source": [
    "player1=SoccerPlayer('Jinhyun',\"MF\",10)\n",
    "print(\"현재 선수의 등번호는:\", player1.back_number)\n",
    "player1.change_back_number(5)\n",
    "print(\"현재 선수의 등번호는:\", player1.back_number)\n",
    "print(player1)\n",
    "print(player1.name)\n",
    "print(player1.position)\n",
    "player1.change_name('JJW')\n",
    "print(player1.name)"
   ]
  },
  {
   "cell_type": "code",
   "execution_count": 58,
   "metadata": {},
   "outputs": [],
   "source": [
    "class Person(object):\n",
    "    def __init__(self, name, age, gender):\n",
    "        self.name=name\n",
    "        self.age=age\n",
    "        self.gender=gender\n",
    "    \n",
    "    def __str__(self):\n",
    "        return\"이름은 {0} 나이는 {1} 성별은 {2}입니다.\".format(self.name, self.age,self.gender)\n",
    "    \n",
    "    def display(self):\n",
    "        print('이름:',self.name)\n",
    "        print('나이:',self.age)\n",
    "        print('성별:',self.gender)"
   ]
  },
  {
   "cell_type": "code",
   "execution_count": 54,
   "metadata": {},
   "outputs": [
    {
     "name": "stdout",
     "output_type": "stream",
     "text": [
      "이름은 길동 나이는 20 성별은 male입니다.\n"
     ]
    }
   ],
   "source": [
    "p1=Person('길동',20,'male')\n",
    "print(p1)"
   ]
  },
  {
   "cell_type": "code",
   "execution_count": 60,
   "metadata": {},
   "outputs": [],
   "source": [
    "class Student(Person):\n",
    "    def __init__(self, name, age, gender, major, sno):\n",
    "        super().__init__(name,age,gender)\n",
    "        self.major=major\n",
    "        self.sno=sno\n",
    "    \n",
    "    def display(self):\n",
    "        print('학번:',self.sno)\n",
    "        print('전공:',self.major)\n",
    "        super().display()"
   ]
  },
  {
   "cell_type": "code",
   "execution_count": 62,
   "metadata": {},
   "outputs": [
    {
     "name": "stdout",
     "output_type": "stream",
     "text": [
      "학번: 1\n",
      "전공: CS\n",
      "이름: Richard\n",
      "나이: 20\n",
      "성별: male\n"
     ]
    }
   ],
   "source": [
    "s1=Student('Richard',20,'male','CS',1)\n",
    "s1.display()"
   ]
  },
  {
   "cell_type": "code",
   "execution_count": 66,
   "metadata": {},
   "outputs": [
    {
     "name": "stdout",
     "output_type": "stream",
     "text": [
      "이름: 길동\n",
      "나이: 20\n",
      "성별: male\n",
      "학번: 1\n",
      "전공: CS\n",
      "이름: Richard\n",
      "나이: 20\n",
      "성별: male\n"
     ]
    }
   ],
   "source": [
    "persons=[p1,s1]\n",
    "for person in persons:\n",
    "    person.display()"
   ]
  },
  {
   "cell_type": "code",
   "execution_count": 70,
   "metadata": {},
   "outputs": [],
   "source": [
    "class Project(object):\n",
    "    def __init__(self):\n",
    "        self.name=name\n",
    "        self.__item=[]\n",
    "        \n",
    "    def add_new_item(self,item):\n",
    "        self.__item.append(item)\n",
    "        print(self.__item)\n",
    "        "
   ]
  },
  {
   "cell_type": "code",
   "execution_count": 72,
   "metadata": {},
   "outputs": [
    {
     "ename": "TypeError",
     "evalue": "__init__() takes 1 positional argument but 2 were given",
     "output_type": "error",
     "traceback": [
      "\u001b[1;31m---------------------------------------------------------------------------\u001b[0m",
      "\u001b[1;31mTypeError\u001b[0m                                 Traceback (most recent call last)",
      "\u001b[1;32m<ipython-input-72-751bf5b91e77>\u001b[0m in \u001b[0;36m<module>\u001b[1;34m\u001b[0m\n\u001b[1;32m----> 1\u001b[1;33m \u001b[0mproject\u001b[0m\u001b[1;33m=\u001b[0m\u001b[0mProject\u001b[0m\u001b[1;33m(\u001b[0m\u001b[1;34m'Leah'\u001b[0m\u001b[1;33m)\u001b[0m\u001b[1;33m\u001b[0m\u001b[1;33m\u001b[0m\u001b[0m\n\u001b[0m\u001b[0;32m      2\u001b[0m \u001b[0mprint\u001b[0m\u001b[1;33m(\u001b[0m\u001b[0mProject\u001b[0m\u001b[1;33m.\u001b[0m\u001b[0mname\u001b[0m\u001b[1;33m)\u001b[0m\u001b[1;33m\u001b[0m\u001b[1;33m\u001b[0m\u001b[0m\n\u001b[0;32m      3\u001b[0m \u001b[0mproject\u001b[0m\u001b[1;33m.\u001b[0m\u001b[0madd_new_item\u001b[0m\u001b[1;33m(\u001b[0m\u001b[1;36m1\u001b[0m\u001b[1;33m)\u001b[0m\u001b[1;33m\u001b[0m\u001b[1;33m\u001b[0m\u001b[0m\n\u001b[0;32m      4\u001b[0m \u001b[0mproject\u001b[0m\u001b[1;33m.\u001b[0m\u001b[0madd_new_item\u001b[0m\u001b[1;33m(\u001b[0m\u001b[1;36m2\u001b[0m\u001b[1;33m)\u001b[0m\u001b[1;33m\u001b[0m\u001b[1;33m\u001b[0m\u001b[0m\n",
      "\u001b[1;31mTypeError\u001b[0m: __init__() takes 1 positional argument but 2 were given"
     ]
    }
   ],
   "source": [
    "project=Project('Leah')\n",
    "print(Project.name)\n",
    "project.add_new_item(1)\n",
    "project.add_new_item(2)\n"
   ]
  }
 ],
 "metadata": {
  "kernelspec": {
   "display_name": "Python 3",
   "language": "python",
   "name": "python3"
  },
  "language_info": {
   "codemirror_mode": {
    "name": "ipython",
    "version": 3
   },
   "file_extension": ".py",
   "mimetype": "text/x-python",
   "name": "python",
   "nbconvert_exporter": "python",
   "pygments_lexer": "ipython3",
   "version": "3.7.4"
  }
 },
 "nbformat": 4,
 "nbformat_minor": 2
}
